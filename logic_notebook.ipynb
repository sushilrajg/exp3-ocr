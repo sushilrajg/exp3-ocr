{
 "cells": [
  {
   "cell_type": "code",
   "execution_count": 76,
   "metadata": {},
   "outputs": [],
   "source": [
    "import pytesseract\n",
    "from pytesseract import Output\n",
    "from PIL import Image\n",
    "import cv2\n",
    "import os"
   ]
  },
  {
   "cell_type": "code",
   "execution_count": 77,
   "metadata": {},
   "outputs": [],
   "source": [
    "pytesseract.pytesseract.tesseract_cmd = \"R:\\\\Work\\\\Tesseract\\\\tesseract.exe\""
   ]
  },
  {
   "cell_type": "code",
   "execution_count": 55,
   "metadata": {},
   "outputs": [],
   "source": [
    "def check_png(img_path):\n",
    "    file_ext = img_path.split(\".\")[-1]\n",
    "    if file_ext.lower() is not \"png\":\n",
    "        img = cv2.imread(img_path)\n",
    "        os.remove(img_path)\n",
    "        img_path = img_path[:-len(file_ext)] + \"png\"\n",
    "        cv2.imwrite(img_path, img)\n",
    "    return img_path"
   ]
  },
  {
   "cell_type": "code",
   "execution_count": 212,
   "metadata": {},
   "outputs": [],
   "source": [
    "def find_text(img_path, inverted=False):\n",
    "    img = cv2.imread(img_path, 0)\n",
    "    w, h = img.shape[:2]\n",
    "    top_margin = int(0.15*img.shape[1])\n",
    "    img = img[top_margin:h, :]\n",
    "    if inverted:\n",
    "        img = cv2.bitwise_not(img)\n",
    "        \n",
    "    _, gray = cv2.threshold(img, 0, 255, cv2.THRESH_BINARY)\n",
    "#     results = pytesseract.image_to_data(gray, output_type=Output.DICT, lang=\"pol\")\n",
    "    \n",
    "#     message = \"\"\n",
    "#     for i in range(len(results[\"text\"])):\n",
    "# #         if float(results[\"height\"][i]) > 0.02*(gray.shape[0]):\n",
    "# #             continue\n",
    "#         text = str(results[\"text\"][i])\n",
    "#         if len(text) < 1: continue\n",
    "#         message += \" \" + text\n",
    "    \n",
    "    text = pytesseract.image_to_string(gray, lang=\"eng\")\n",
    "    return text"
   ]
  },
  {
   "cell_type": "code",
   "execution_count": 213,
   "metadata": {},
   "outputs": [],
   "source": [
    "PATH = os.getcwd() + \"\\sample\"\n",
    "texts = []\n",
    "for i in os.listdir(PATH):\n",
    "    img_path = PATH + '\\\\' + i\n",
    "    img_path = check_png(img_path)\n",
    "    text = find_text(img_path)\n",
    "    texts.append(text)\n",
    "    text = find_text(img_path, True)\n",
    "    texts.append(text)"
   ]
  },
  {
   "cell_type": "code",
   "execution_count": 214,
   "metadata": {},
   "outputs": [
    {
     "data": {
      "text/plain": [
       "['',\n",
       " 'a YY x\\n\\nLeo\\n\\nobra puazi mnie porn\\npoznle}\\n\\nIde sie ogarnac\\n\\nKunwa\\n\\n \\n\\nos jest nie tak\\nPatrze na plan\\nA JA MAM TERAZ\\n\\nOKIENKO X D XDD XX D\\nXXXD D DD\\n\\nWY',\n",
       " '',\n",
       " '@ Peer ete . = 0\\n\\na)\\n\\n \\n\\nej dothrakowle to taki\\ntypowo komunistyezny\\nnarod\\n\\njesll cos juz zreja to jedno 1\\nto samo, medycyna jest na\\ntym samym poziomie od\\n\\nezasow wynalezienta kota |',\n",
       " '',\n",
       " 'cna. Ne ax\\n\\nPo kilku kieliszkach | tak\\ny bedzremy jak\\n‘alka rodzina\\n\\n \\n\\n \\n\\nja bede gej clocia\\nwika te vagler\\nwera kocla mama\\n\\n  \\n \\n\\nmlody bedzie pre-teen\\ncorka co przechodz prz\\nokres buntu',\n",
       " '',\n",
       " 'XY\\n\\nszkoly, tamten\\nwezesmlejszy nie zadzwonl\\nXD\\n\\nWiec mysle ja prerdole\\nkurwa w 20 minut nie\\nwyroble sie z zarchvm,\\nogarmeciem mordy 1\\ndotarciem do tego\\npizdzieca\\n\\nChuj kurwa ustawiam\\nkoleiny budzik']"
      ]
     },
     "execution_count": 214,
     "metadata": {},
     "output_type": "execute_result"
    }
   ],
   "source": [
    "texts"
   ]
  },
  {
   "cell_type": "code",
   "execution_count": null,
   "metadata": {},
   "outputs": [],
   "source": []
  }
 ],
 "metadata": {
  "kernelspec": {
   "display_name": "Python 3",
   "language": "python",
   "name": "python3"
  },
  "language_info": {
   "codemirror_mode": {
    "name": "ipython",
    "version": 3
   },
   "file_extension": ".py",
   "mimetype": "text/x-python",
   "name": "python",
   "nbconvert_exporter": "python",
   "pygments_lexer": "ipython3",
   "version": "3.7.6"
  }
 },
 "nbformat": 4,
 "nbformat_minor": 4
}
