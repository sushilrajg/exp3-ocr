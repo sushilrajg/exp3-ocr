{
 "cells": [
  {
   "cell_type": "code",
   "execution_count": 76,
   "metadata": {},
   "outputs": [],
   "source": [
    "import pytesseract\n",
    "from pytesseract import Output\n",
    "from PIL import Image\n",
    "import cv2\n",
    "import os"
   ]
  },
  {
   "cell_type": "code",
   "execution_count": 77,
   "metadata": {},
   "outputs": [],
   "source": [
    "pytesseract.pytesseract.tesseract_cmd = \"R:\\\\Work\\\\Tesseract\\\\tesseract.exe\""
   ]
  },
  {
   "cell_type": "code",
   "execution_count": 55,
   "metadata": {},
   "outputs": [],
   "source": [
    "def check_png(img_path):\n",
    "    file_ext = img_path.split(\".\")[-1]\n",
    "    if file_ext.lower() is not \"png\":\n",
    "        img = cv2.imread(img_path)\n",
    "        os.remove(img_path)\n",
    "        img_path = img_path[:-len(file_ext)] + \"png\"\n",
    "        cv2.imwrite(img_path, img)\n",
    "    return img_path"
   ]
  },
  {
   "cell_type": "code",
   "execution_count": 108,
   "metadata": {},
   "outputs": [],
   "source": [
    "def find_text(img_path, inverted=False):\n",
    "    img = cv2.imread(img_path, 0)\n",
    "    _, gray = cv2.threshold(img, 0, 255, cv2.THRESH_BINARY)\n",
    "    if inverted:\n",
    "        img = cv2.bitwise_not(img)\n",
    "\n",
    "    text = pytesseract.image_to_string(gray)\n",
    "    return text"
   ]
  },
  {
   "cell_type": "code",
   "execution_count": 109,
   "metadata": {},
   "outputs": [],
   "source": [
    "PATH = os.getcwd() + \"\\sample\"\n",
    "texts = []\n",
    "for i in os.listdir(PATH):\n",
    "    img_path = PATH + '\\\\' + i\n",
    "    img_path = check_png(img_path)\n",
    "    text = find_text(img_path)\n",
    "    text = pytesseract.image_to_string(Image.open(img_path))\n",
    "    texts.append(text)\n",
    "    text = find_text(img_path, True)\n",
    "    texts.append(text)"
   ]
  },
  {
   "cell_type": "code",
   "execution_count": 114,
   "metadata": {},
   "outputs": [],
   "source": [
    "# for t in texts:\n",
    "#     print(t)"
   ]
  },
  {
   "cell_type": "code",
   "execution_count": null,
   "metadata": {},
   "outputs": [],
   "source": []
  }
 ],
 "metadata": {
  "kernelspec": {
   "display_name": "Python 3",
   "language": "python",
   "name": "python3"
  },
  "language_info": {
   "codemirror_mode": {
    "name": "ipython",
    "version": 3
   },
   "file_extension": ".py",
   "mimetype": "text/x-python",
   "name": "python",
   "nbconvert_exporter": "python",
   "pygments_lexer": "ipython3",
   "version": "3.7.6"
  }
 },
 "nbformat": 4,
 "nbformat_minor": 4
}
